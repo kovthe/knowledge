{
 "cells": [
  {
   "cell_type": "code",
   "execution_count": 1,
   "metadata": {
    "collapsed": false
   },
   "outputs": [],
   "source": [
    "import IPython.display as disp\n",
    "import pandas\n",
    "import pandasql\n",
    "import csv"
   ]
  },
  {
   "cell_type": "markdown",
   "metadata": {},
   "source": [
    "# Intro to Data Science<br/> Problem Set 2: Analyzing the NYC Subway Dataset\n",
    "The following notes are a summary on [Udacity's online course](https://www.udacity.com/course/intro-to-data-science--ud359)"
   ]
  },
  {
   "cell_type": "markdown",
   "metadata": {},
   "source": [
    "## 1 - Number of Rainy Days"
   ]
  },
  {
   "cell_type": "code",
   "execution_count": 2,
   "metadata": {
    "collapsed": true
   },
   "outputs": [],
   "source": [
    "def num_rainy_days(filename):\n",
    "    '''\n",
    "    This function should run a SQL query on a dataframe of\n",
    "    weather data.  The SQL query should return one column and\n",
    "    one row - a count of the number of days in the dataframe where\n",
    "    the rain column is equal to 1 (i.e., the number of days it\n",
    "    rained).  The dataframe will be titled 'weather_data'. You'll\n",
    "    need to provide the SQL query.  You might find SQL's count function\n",
    "    useful for this exercise.  You can read more about it here:\n",
    "    \n",
    "    https://dev.mysql.com/doc/refman/5.1/en/counting-rows.html\n",
    "    \n",
    "    You might also find that interpreting numbers as integers or floats may not\n",
    "    work initially.  In order to get around this issue, it may be useful to cast\n",
    "    these numbers as integers.  This can be done by writing cast(column as integer).\n",
    "    So for example, if we wanted to cast the maxtempi column as an integer, we would actually\n",
    "    write something like where cast(maxtempi as integer) = 76, as opposed to simply \n",
    "    where maxtempi = 76.\n",
    "    \n",
    "    You can see the weather data that we are passing in below:\n",
    "    https://www.dropbox.com/s/7sf0yqc9ykpq3w8/weather_underground.csv\n",
    "    '''\n",
    "    weather_data = pandas.read_csv(filename)\n",
    "\n",
    "    q = \"\"\"\n",
    "    SELECT\n",
    "    COUNT(*) FROM\n",
    "    weather_data\n",
    "    WHERE\n",
    "    cast(rain as integer) = 1\n",
    "    \"\"\"\n",
    "    \n",
    "    #Execute your SQL command against the pandas frame\n",
    "    rainy_days = pandasql.sqldf(q.lower(), locals())\n",
    "    return rainy_days"
   ]
  },
  {
   "cell_type": "markdown",
   "metadata": {},
   "source": [
    "## 2 - Temp on Foggy and Nonfoggy Days"
   ]
  },
  {
   "cell_type": "code",
   "execution_count": 3,
   "metadata": {
    "collapsed": true
   },
   "outputs": [],
   "source": [
    "def max_temp_aggregate_by_fog(filename):\n",
    "    '''\n",
    "    This function should run a SQL query on a dataframe of\n",
    "    weather data.  The SQL query should return two columns and\n",
    "    two rows - whether it was foggy or not (0 or 1) and the max\n",
    "    maxtempi for that fog value (i.e., the maximum max temperature\n",
    "    for both foggy and non-foggy days).  The dataframe will be \n",
    "    titled 'weather_data'. You'll need to provide the SQL query.\n",
    "    \n",
    "    You might also find that interpreting numbers as integers or floats may not\n",
    "    work initially.  In order to get around this issue, it may be useful to cast\n",
    "    these numbers as integers.  This can be done by writing cast(column as integer).\n",
    "    So for example, if we wanted to cast the maxtempi column as an integer, we would actually\n",
    "    write something like where cast(maxtempi as integer) = 76, as opposed to simply \n",
    "    where maxtempi = 76.\n",
    "    \n",
    "    You can see the weather data that we are passing in below:\n",
    "    https://www.dropbox.com/s/7sf0yqc9ykpq3w8/weather_underground.csv\n",
    "    '''\n",
    "    weather_data = pandas.read_csv(filename)\n",
    "\n",
    "    q = \"\"\"\n",
    "    SELECT\n",
    "    fog, MAX(maxtempi)\n",
    "    FROM\n",
    "    weather_data\n",
    "    GROUP BY\n",
    "    fog\n",
    "    \"\"\"\n",
    "    \n",
    "    #Execute your SQL command against the pandas frame\n",
    "    foggy_days = pandasql.sqldf(q.lower(), locals())\n",
    "    return foggy_days"
   ]
  },
  {
   "cell_type": "markdown",
   "metadata": {},
   "source": [
    "## 3 - Mean Temp on Weekends"
   ]
  },
  {
   "cell_type": "code",
   "execution_count": 4,
   "metadata": {
    "collapsed": true
   },
   "outputs": [],
   "source": [
    "def avg_weekend_temperature(filename):\n",
    "    '''\n",
    "    This function should run a SQL query on a dataframe of\n",
    "    weather data.  The SQL query should return one column and\n",
    "    one row - the average meantempi on days that are a Saturday\n",
    "    or Sunday (i.e., the the average mean temperature on weekends).\n",
    "    The dataframe will be titled 'weather_data' and you can access\n",
    "    the date in the dataframe via the 'date' column.\n",
    "    \n",
    "    You'll need to provide  the SQL query.\n",
    "    \n",
    "    You might also find that interpreting numbers as integers or floats may not\n",
    "    work initially.  In order to get around this issue, it may be useful to cast\n",
    "    these numbers as integers.  This can be done by writing cast(column as integer).\n",
    "    So for example, if we wanted to cast the maxtempi column as an integer, we would actually\n",
    "    write something like where cast(maxtempi as integer) = 76, as opposed to simply \n",
    "    where maxtempi = 76.\n",
    "    \n",
    "    Also, you can convert dates to days of the week via the 'strftime' keyword in SQL.\n",
    "    For example, cast (strftime('%w', date) as integer) will return 0 if the date\n",
    "    is a Sunday or 6 if the date is a Saturday.\n",
    "    \n",
    "    You can see the weather data that we are passing in below:\n",
    "    https://www.dropbox.com/s/7sf0yqc9ykpq3w8/weather_underground.csv\n",
    "    '''\n",
    "    weather_data = pandas.read_csv(filename)\n",
    "\n",
    "    q = \"\"\"\n",
    "    SELECT AVG(meantempi)\n",
    "    FROM\n",
    "    weather_data\n",
    "    WHERE\n",
    "    cast (strftime('%w', date) as integer) >= 6\n",
    "    OR\n",
    "    cast (strftime('%w', date) as integer) = 0\n",
    "    \"\"\"\n",
    "    \n",
    "    #Execute your SQL command against the pandas frame\n",
    "    mean_temp_weekends = pandasql.sqldf(q.lower(), locals())\n",
    "    return mean_temp_weekends"
   ]
  },
  {
   "cell_type": "markdown",
   "metadata": {},
   "source": [
    "## 4 - Mean Temp on Rainy Days"
   ]
  },
  {
   "cell_type": "code",
   "execution_count": 5,
   "metadata": {
    "collapsed": true
   },
   "outputs": [],
   "source": [
    "def avg_min_temperature(filename):\n",
    "    '''\n",
    "    This function should run a SQL query on a dataframe of\n",
    "    weather data. More specifically you want to find the average\n",
    "    minimum temperature (mintempi column of the weather dataframe) on \n",
    "    rainy days where the minimum temperature is greater than 55 degrees.\n",
    "    \n",
    "    You might also find that interpreting numbers as integers or floats may not\n",
    "    work initially.  In order to get around this issue, it may be useful to cast\n",
    "    these numbers as integers.  This can be done by writing cast(column as integer).\n",
    "    So for example, if we wanted to cast the maxtempi column as an integer, we would actually\n",
    "    write something like where cast(maxtempi as integer) = 76, as opposed to simply \n",
    "    where maxtempi = 76.\n",
    "    \n",
    "    You can see the weather data that we are passing in below:\n",
    "    https://www.dropbox.com/s/7sf0yqc9ykpq3w8/weather_underground.csv\n",
    "    '''\n",
    "    weather_data = pandas.read_csv(filename)\n",
    "\n",
    "    q = \"\"\"\n",
    "    SELECT\n",
    "    AVG(mintempi)\n",
    "    FROM\n",
    "    weather_data\n",
    "    WHERE\n",
    "    rain = 1 AND mintempi > 55\n",
    "    \"\"\"\n",
    "    \n",
    "    #Execute your SQL command against the pandas frame\n",
    "    avg_min_temp_rainy = pandasql.sqldf(q.lower(), locals())\n",
    "    return avg_min_temp_rainy"
   ]
  },
  {
   "cell_type": "code",
   "execution_count": 10,
   "metadata": {
    "collapsed": false
   },
   "outputs": [
    {
     "name": "stdout",
     "output_type": "stream",
     "text": [
      "   count(*)\n",
      "0        10\n",
      "\n",
      "   fog  max(maxtempi)\n",
      "0    0             86\n",
      "1    1             81\n",
      "\n",
      "   avg(meantempi)\n",
      "0       65.111111\n",
      "\n",
      "   avg(mintempi)\n",
      "0          61.25\n"
     ]
    }
   ],
   "source": [
    "with open(\"./weather_underground.csv\", \"r\") as fp:\n",
    "    print(num_rainy_days(fp))\n",
    "    \n",
    "    print(\"\")\n",
    "    fp.seek(0)\n",
    "    print(max_temp_aggregate_by_fog(fp))\n",
    "    \n",
    "    print(\"\")\n",
    "    fp.seek(0)\n",
    "    print(avg_weekend_temperature(fp))\n",
    "    \n",
    "    print(\"\")\n",
    "    fp.seek(0)\n",
    "    print(avg_min_temperature(fp))"
   ]
  },
  {
   "cell_type": "markdown",
   "metadata": {},
   "source": [
    "##  5 - Fixing Turnstile Data"
   ]
  },
  {
   "cell_type": "code",
   "execution_count": 11,
   "metadata": {
    "collapsed": false
   },
   "outputs": [],
   "source": [
    "def fix_turnstile_data(filenames):\n",
    "    '''\n",
    "    Filenames is a list of MTA Subway turnstile text files. A link to an example\n",
    "    MTA Subway turnstile text file can be seen at the URL below:\n",
    "    http://web.mta.info/developers/data/nyct/turnstile/turnstile_110507.txt\n",
    "    \n",
    "    As you can see, there are numerous data points included in each row of the\n",
    "    a MTA Subway turnstile text file. \n",
    "\n",
    "    You want to write a function that will update each row in the text\n",
    "    file so there is only one entry per row. A few examples below:\n",
    "    A002,R051,02-00-00,05-28-11,00:00:00,REGULAR,003178521,001100739\n",
    "    A002,R051,02-00-00,05-28-11,04:00:00,REGULAR,003178541,001100746\n",
    "    A002,R051,02-00-00,05-28-11,08:00:00,REGULAR,003178559,001100775\n",
    "    \n",
    "    Write the updates to a different text file in the format of \"updated_\" + filename.\n",
    "    For example:\n",
    "        1) if you read in a text file called \"turnstile_110521.txt\"\n",
    "        2) you should write the updated data to \"updated_turnstile_110521.txt\"\n",
    "\n",
    "    The order of the fields should be preserved. Remember to read through the \n",
    "    Instructor Notes below for more details on the task. \n",
    "    \n",
    "    In addition, here is a CSV reader/writer introductory tutorial:\n",
    "    http://goo.gl/HBbvyy\n",
    "    \n",
    "    You can see a sample of the turnstile text file that's passed into this function\n",
    "    and the the corresponding updated file in the links below:\n",
    "    \n",
    "    Sample input file:\n",
    "    https://www.dropbox.com/s/mpin5zv4hgrx244/turnstile_110528.txt\n",
    "    Sample updated file:\n",
    "    https://www.dropbox.com/s/074xbgio4c39b7h/solution_turnstile_110528.txt\n",
    "    '''\n",
    "    for name in filenames:\n",
    "        with open(name, \"rb\") as fp, open(\"updated_\"+name, \"wb\") as updated_fp:\n",
    "            out_csv = csv.writer(updated_fp)\n",
    "            for row in csv.reader(fp):\n",
    "                entry_start = 3\n",
    "                turnstile = row[:entry_start]\n",
    "                for i in range(entry_start, len(row), 5):\n",
    "                    out_csv.writerow(turnstile + row[i:i+5])\n",
    "                    "
   ]
  },
  {
   "cell_type": "markdown",
   "metadata": {},
   "source": [
    "## 6 - Combining Turnstile Data"
   ]
  },
  {
   "cell_type": "code",
   "execution_count": 12,
   "metadata": {
    "collapsed": true
   },
   "outputs": [],
   "source": [
    "def create_master_turnstile_file(filenames, output_file):\n",
    "    '''\n",
    "    Write a function that takes the files in the list filenames, which all have the \n",
    "    columns 'C/A, UNIT, SCP, DATEn, TIMEn, DESCn, ENTRIESn, EXITSn', and consolidates\n",
    "    them into one file located at output_file.  There should be ONE row with the column\n",
    "    headers, located at the top of the file. The input files do not have column header\n",
    "    rows of their own.\n",
    "    \n",
    "    For example, if file_1 has:\n",
    "    line 1 ...\n",
    "    line 2 ...\n",
    "    \n",
    "    and another file, file_2 has:\n",
    "    line 3 ...\n",
    "    line 4 ...\n",
    "    line 5 ...\n",
    "    \n",
    "    We need to combine file_1 and file_2 into a master_file like below:\n",
    "     'C/A, UNIT, SCP, DATEn, TIMEn, DESCn, ENTRIESn, EXITSn'\n",
    "    line 1 ...\n",
    "    line 2 ...\n",
    "    line 3 ...\n",
    "    line 4 ...\n",
    "    line 5 ...\n",
    "    '''\n",
    "    with open(output_file, 'w') as master_file:\n",
    "        master_file.write('C/A,UNIT,SCP,DATEn,TIMEn,DESCn,ENTRIESn,EXITSn\\n')\n",
    "        for filename in filenames:\n",
    "            with open(filename, 'r') as input_file:\n",
    "                master_file.write(input_file.read())\n"
   ]
  },
  {
   "cell_type": "code",
   "execution_count": 14,
   "metadata": {
    "collapsed": false
   },
   "outputs": [],
   "source": [
    "fix_turnstile_data([\"turnstile_110528.txt\"])\n",
    "create_master_turnstile_file([\"./updated_turnstile_110528.txt\"], \"turnstile_aggregated.txt\")"
   ]
  },
  {
   "cell_type": "markdown",
   "metadata": {},
   "source": [
    "## 7 - Filtering Irregular Data"
   ]
  },
  {
   "cell_type": "code",
   "execution_count": 15,
   "metadata": {
    "collapsed": true
   },
   "outputs": [],
   "source": [
    "def filter_by_regular(filename):\n",
    "    '''\n",
    "    This function should read the csv file located at filename into a pandas dataframe,\n",
    "    and filter the dataframe to only rows where the 'DESCn' column has the value 'REGULAR'.\n",
    "    \n",
    "    For example, if the pandas dataframe is as follows:\n",
    "    ,C/A,UNIT,SCP,DATEn,TIMEn,DESCn,ENTRIESn,EXITSn\n",
    "    0,A002,R051,02-00-00,05-01-11,00:00:00,REGULAR,3144312,1088151\n",
    "    1,A002,R051,02-00-00,05-01-11,04:00:00,DOOR,3144335,1088159\n",
    "    2,A002,R051,02-00-00,05-01-11,08:00:00,REGULAR,3144353,1088177\n",
    "    3,A002,R051,02-00-00,05-01-11,12:00:00,DOOR,3144424,1088231\n",
    "    \n",
    "    The dataframe will look like below after filtering to only rows where DESCn column\n",
    "    has the value 'REGULAR':\n",
    "    0,A002,R051,02-00-00,05-01-11,00:00:00,REGULAR,3144312,1088151\n",
    "    2,A002,R051,02-00-00,05-01-11,08:00:00,REGULAR,3144353,1088177\n",
    "    '''\n",
    "    \n",
    "    turnstile_data = pandas.read_csv(filename)\n",
    " \n",
    "    return turnstile_data[turnstile_data['DESCn'] == \"REGULAR\"]\n"
   ]
  },
  {
   "cell_type": "code",
   "execution_count": 16,
   "metadata": {
    "collapsed": false
   },
   "outputs": [
    {
     "name": "stdout",
     "output_type": "stream",
     "text": [
      "       C/A  UNIT       SCP     DATEn     TIMEn    DESCn  ENTRIESn   EXITSn\n",
      "0     A002  R051  02-00-00  05-21-11  00:00:00  REGULAR   3169391  1097585\n",
      "1     A002  R051  02-00-00  05-21-11  04:00:00  REGULAR   3169415  1097588\n",
      "2     A002  R051  02-00-00  05-21-11  08:00:00  REGULAR   3169431  1097607\n",
      "3     A002  R051  02-00-00  05-21-11  12:00:00  REGULAR   3169506  1097686\n",
      "4     A002  R051  02-00-00  05-21-11  16:00:00  REGULAR   3169693  1097734\n",
      "5     A002  R051  02-00-00  05-21-11  20:00:00  REGULAR   3169998  1097769\n",
      "6     A002  R051  02-00-00  05-22-11  00:00:00  REGULAR   3170119  1097792\n",
      "7     A002  R051  02-00-00  05-22-11  04:00:00  REGULAR   3170146  1097801\n",
      "8     A002  R051  02-00-00  05-22-11  08:00:00  REGULAR   3170164  1097820\n",
      "9     A002  R051  02-00-00  05-22-11  12:00:00  REGULAR   3170240  1097867\n",
      "10    A002  R051  02-00-00  05-22-11  16:00:00  REGULAR   3170388  1097912\n",
      "11    A002  R051  02-00-00  05-22-11  20:00:00  REGULAR   3170611  1097941\n",
      "12    A002  R051  02-00-00  05-23-11  00:00:00  REGULAR   3170695  1097964\n",
      "13    A002  R051  02-00-00  05-23-11  04:00:00  REGULAR   3170701  1097964\n",
      "14    A002  R051  02-00-00  05-23-11  08:00:00  REGULAR   3170746  1098069\n",
      "15    A002  R051  02-00-00  05-23-11  12:00:00  REGULAR   3170897  1098378\n",
      "16    A002  R051  02-00-00  05-23-11  16:00:00  REGULAR   3171194  1098447\n",
      "17    A002  R051  02-00-00  05-23-11  20:00:00  REGULAR   3172059  1098511\n",
      "18    A002  R051  02-00-00  05-24-11  00:00:00  REGULAR   3172200  1098528\n",
      "19    A002  R051  02-00-00  05-24-11  04:00:00  REGULAR   3172214  1098529\n",
      "20    A002  R051  02-00-00  05-24-11  08:00:00  REGULAR   3172266  1098628\n",
      "21    A002  R051  02-00-00  05-24-11  12:00:00  REGULAR   3172407  1098952\n",
      "22    A002  R051  02-00-00  05-24-11  16:00:00  REGULAR   3172689  1099010\n",
      "23    A002  R051  02-00-00  05-24-11  20:00:00  REGULAR   3173590  1099055\n",
      "24    A002  R051  02-00-00  05-25-11  00:00:00  REGULAR   3173803  1099079\n",
      "25    A002  R051  02-00-00  05-25-11  04:00:00  REGULAR   3173826  1099081\n",
      "26    A002  R051  02-00-00  05-25-11  08:00:00  REGULAR   3173873  1099178\n",
      "27    A002  R051  02-00-00  05-25-11  12:00:00  REGULAR   3174022  1099496\n",
      "28    A002  R051  02-00-00  05-25-11  16:00:00  REGULAR   3174309  1099572\n",
      "29    A002  R051  02-00-00  05-25-11  20:00:00  REGULAR   3175172  1099651\n",
      "...    ...   ...       ...       ...       ...      ...       ...      ...\n",
      "7311  A042  R086  01-00-04  05-22-11  20:00:00  REGULAR    912511  4167549\n",
      "7312  A042  R086  01-00-04  05-23-11  00:00:00  REGULAR    912606  4167828\n",
      "7313  A042  R086  01-00-04  05-23-11  04:00:00  REGULAR    912616  4167855\n",
      "7314  A042  R086  01-00-04  05-23-11  08:00:00  REGULAR    912622  4168025\n",
      "7315  A042  R086  01-00-04  05-23-11  12:00:00  REGULAR    912679  4168923\n",
      "7316  A042  R086  01-00-04  05-23-11  16:00:00  REGULAR    912843  4169719\n",
      "7317  A042  R086  01-00-04  05-23-11  20:00:00  REGULAR    913194  4170521\n",
      "7318  A042  R086  01-00-04  05-24-11  00:00:00  REGULAR    913291  4170682\n",
      "7319  A042  R086  01-00-04  05-24-11  04:00:00  REGULAR    913300  4170711\n",
      "7320  A042  R086  01-00-04  05-24-11  08:00:00  REGULAR    913309  4170890\n",
      "7321  A042  R086  01-00-04  05-24-11  12:00:00  REGULAR    913360  4171856\n",
      "7322  A042  R086  01-00-04  05-24-11  16:00:00  REGULAR    913536  4172582\n",
      "7323  A042  R086  01-00-04  05-24-11  20:00:00  REGULAR    913892  4173464\n",
      "7324  A042  R086  01-00-04  05-25-11  00:00:00  REGULAR    914006  4173624\n",
      "7327  A042  R086  01-00-04  05-25-11  08:00:00  REGULAR    914027  4173813\n",
      "7328  A042  R086  01-00-04  05-25-11  12:00:00  REGULAR    914087  4174759\n",
      "7329  A042  R086  01-00-04  05-25-11  16:00:00  REGULAR    914262  4175544\n",
      "7330  A042  R086  01-00-04  05-25-11  20:00:00  REGULAR    914686  4176445\n",
      "7331  A042  R086  01-00-04  05-26-11  00:00:00  REGULAR    914808  4176633\n",
      "7332  A042  R086  01-00-04  05-26-11  04:00:00  REGULAR    914822  4176664\n",
      "7333  A042  R086  01-00-04  05-26-11  08:00:00  REGULAR    914830  4176849\n",
      "7334  A042  R086  01-00-04  05-26-11  12:00:00  REGULAR    914902  4177778\n",
      "7335  A042  R086  01-00-04  05-26-11  16:00:00  REGULAR    915105  4178603\n",
      "7336  A042  R086  01-00-04  05-26-11  20:00:00  REGULAR    915583  4179421\n",
      "7337  A042  R086  01-00-04  05-27-11  00:00:00  REGULAR    915724  4179647\n",
      "7338  A042  R086  01-00-04  05-27-11  04:00:00  REGULAR    915737  4179675\n",
      "7339  A042  R086  01-00-04  05-27-11  08:00:00  REGULAR    915743  4179820\n",
      "7340  A042  R086  01-00-04  05-27-11  12:00:00  REGULAR    915806  4180746\n",
      "7341  A042  R086  01-00-04  05-27-11  16:00:00  REGULAR    916090  4181746\n",
      "7342  A042  R086  01-00-04  05-27-11  20:00:00  REGULAR    916517  4182631\n",
      "\n",
      "[6183 rows x 8 columns]\n"
     ]
    }
   ],
   "source": [
    "print(filter_by_regular(\"turnstile_aggregated.txt\"))"
   ]
  },
  {
   "cell_type": "markdown",
   "metadata": {},
   "source": [
    "## 8 - Get Hourly Entries"
   ]
  },
  {
   "cell_type": "code",
   "execution_count": 17,
   "metadata": {
    "collapsed": false
   },
   "outputs": [],
   "source": [
    "def get_hourly_entries(df):\n",
    "    '''\n",
    "    The data in the MTA Subway Turnstile data reports on the cumulative\n",
    "    number of entries and exits per row.  Assume that you have a dataframe\n",
    "    called df that contains only the rows for a particular turnstile machine\n",
    "    (i.e., unique SCP, C/A, and UNIT).  This function should change\n",
    "    these cumulative entry numbers to a count of entries since the last reading\n",
    "    (i.e., entries since the last row in the dataframe).\n",
    "    \n",
    "    More specifically, you want to do two things:\n",
    "       1) Create a new column called ENTRIESn_hourly\n",
    "       2) Assign to the column the difference between ENTRIESn of the current row \n",
    "          and the previous row. If there is any NaN, fill/replace it with 1.\n",
    "    \n",
    "    You may find the pandas functions shift() and fillna() to be helpful in this exercise.\n",
    "    \n",
    "    Examples of what your dataframe should look like at the end of this exercise:\n",
    "    \n",
    "           C/A  UNIT       SCP     DATEn     TIMEn    DESCn  ENTRIESn    EXITSn  ENTRIESn_hourly\n",
    "    0     A002  R051  02-00-00  05-01-11  00:00:00  REGULAR   3144312   1088151                1\n",
    "    1     A002  R051  02-00-00  05-01-11  04:00:00  REGULAR   3144335   1088159               23\n",
    "    2     A002  R051  02-00-00  05-01-11  08:00:00  REGULAR   3144353   1088177               18\n",
    "    3     A002  R051  02-00-00  05-01-11  12:00:00  REGULAR   3144424   1088231               71\n",
    "    4     A002  R051  02-00-00  05-01-11  16:00:00  REGULAR   3144594   1088275              170\n",
    "    5     A002  R051  02-00-00  05-01-11  20:00:00  REGULAR   3144808   1088317              214\n",
    "    6     A002  R051  02-00-00  05-02-11  00:00:00  REGULAR   3144895   1088328               87\n",
    "    7     A002  R051  02-00-00  05-02-11  04:00:00  REGULAR   3144905   1088331               10\n",
    "    8     A002  R051  02-00-00  05-02-11  08:00:00  REGULAR   3144941   1088420               36\n",
    "    9     A002  R051  02-00-00  05-02-11  12:00:00  REGULAR   3145094   1088753              153\n",
    "    10    A002  R051  02-00-00  05-02-11  16:00:00  REGULAR   3145337   1088823              243\n",
    "    ...\n",
    "    ...\n",
    "\n",
    "    '''\n",
    "    df.is_copy = False\n",
    "    df['ENTRIESn_hourly'] =  df['ENTRIESn'] - df['ENTRIESn'].shift(1)\n",
    "    df.fillna(1, inplace = True)\n",
    "    return df"
   ]
  },
  {
   "cell_type": "code",
   "execution_count": 18,
   "metadata": {
    "collapsed": false,
    "scrolled": true
   },
   "outputs": [],
   "source": [
    "df = pandas.read_csv(\"turnstile_aggregated.txt\")\n",
    "df = get_hourly_entries(df[(df[\"C/A\"] == \"A002\") & (df[\"UNIT\"] == \"R051\") & (df[\"SCP\"] == \"02-00-00\")]) "
   ]
  },
  {
   "cell_type": "markdown",
   "metadata": {},
   "source": [
    "## 9 - Get Hourly Exits"
   ]
  },
  {
   "cell_type": "code",
   "execution_count": 19,
   "metadata": {
    "collapsed": true
   },
   "outputs": [],
   "source": [
    "def get_hourly_exits(df):\n",
    "    '''\n",
    "    The data in the MTA Subway Turnstile data reports on the cumulative\n",
    "    number of entries and exits per row.  Assume that you have a dataframe\n",
    "    called df that contains only the rows for a particular turnstile machine\n",
    "    (i.e., unique SCP, C/A, and UNIT).  This function should change\n",
    "    these cumulative exit numbers to a count of exits since the last reading\n",
    "    (i.e., exits since the last row in the dataframe).\n",
    "    \n",
    "    More specifically, you want to do two things:\n",
    "       1) Create a new column called EXITSn_hourly\n",
    "       2) Assign to the column the difference between EXITSn of the current row \n",
    "          and the previous row. If there is any NaN, fill/replace it with 0.\n",
    "    \n",
    "    You may find the pandas functions shift() and fillna() to be helpful in this exercise.\n",
    "    \n",
    "    Example dataframe below:\n",
    "\n",
    "          Unnamed: 0   C/A  UNIT       SCP     DATEn     TIMEn    DESCn  ENTRIESn    EXITSn  ENTRIESn_hourly  EXITSn_hourly\n",
    "    0              0  A002  R051  02-00-00  05-01-11  00:00:00  REGULAR   3144312   1088151                0              0\n",
    "    1              1  A002  R051  02-00-00  05-01-11  04:00:00  REGULAR   3144335   1088159               23              8\n",
    "    2              2  A002  R051  02-00-00  05-01-11  08:00:00  REGULAR   3144353   1088177               18             18\n",
    "    3              3  A002  R051  02-00-00  05-01-11  12:00:00  REGULAR   3144424   1088231               71             54\n",
    "    4              4  A002  R051  02-00-00  05-01-11  16:00:00  REGULAR   3144594   1088275              170             44\n",
    "    5              5  A002  R051  02-00-00  05-01-11  20:00:00  REGULAR   3144808   1088317              214             42\n",
    "    6              6  A002  R051  02-00-00  05-02-11  00:00:00  REGULAR   3144895   1088328               87             11\n",
    "    7              7  A002  R051  02-00-00  05-02-11  04:00:00  REGULAR   3144905   1088331               10              3\n",
    "    8              8  A002  R051  02-00-00  05-02-11  08:00:00  REGULAR   3144941   1088420               36             89\n",
    "    9              9  A002  R051  02-00-00  05-02-11  12:00:00  REGULAR   3145094   1088753              153            333\n",
    "    '''\n",
    "    \n",
    "    df[\"EXITSn_hourly\"] = df['EXITSn'] - df['EXITSn'].shift(1)\n",
    "    df.fillna(0, inplace = True)\n",
    "    return df"
   ]
  },
  {
   "cell_type": "code",
   "execution_count": 20,
   "metadata": {
    "collapsed": false
   },
   "outputs": [
    {
     "name": "stdout",
     "output_type": "stream",
     "text": [
      "     C/A  UNIT       SCP     DATEn     TIMEn    DESCn  ENTRIESn   EXITSn  \\\n",
      "0   A002  R051  02-00-00  05-21-11  00:00:00  REGULAR   3169391  1097585   \n",
      "1   A002  R051  02-00-00  05-21-11  04:00:00  REGULAR   3169415  1097588   \n",
      "2   A002  R051  02-00-00  05-21-11  08:00:00  REGULAR   3169431  1097607   \n",
      "3   A002  R051  02-00-00  05-21-11  12:00:00  REGULAR   3169506  1097686   \n",
      "4   A002  R051  02-00-00  05-21-11  16:00:00  REGULAR   3169693  1097734   \n",
      "5   A002  R051  02-00-00  05-21-11  20:00:00  REGULAR   3169998  1097769   \n",
      "6   A002  R051  02-00-00  05-22-11  00:00:00  REGULAR   3170119  1097792   \n",
      "7   A002  R051  02-00-00  05-22-11  04:00:00  REGULAR   3170146  1097801   \n",
      "8   A002  R051  02-00-00  05-22-11  08:00:00  REGULAR   3170164  1097820   \n",
      "9   A002  R051  02-00-00  05-22-11  12:00:00  REGULAR   3170240  1097867   \n",
      "10  A002  R051  02-00-00  05-22-11  16:00:00  REGULAR   3170388  1097912   \n",
      "11  A002  R051  02-00-00  05-22-11  20:00:00  REGULAR   3170611  1097941   \n",
      "12  A002  R051  02-00-00  05-23-11  00:00:00  REGULAR   3170695  1097964   \n",
      "13  A002  R051  02-00-00  05-23-11  04:00:00  REGULAR   3170701  1097964   \n",
      "14  A002  R051  02-00-00  05-23-11  08:00:00  REGULAR   3170746  1098069   \n",
      "15  A002  R051  02-00-00  05-23-11  12:00:00  REGULAR   3170897  1098378   \n",
      "16  A002  R051  02-00-00  05-23-11  16:00:00  REGULAR   3171194  1098447   \n",
      "17  A002  R051  02-00-00  05-23-11  20:00:00  REGULAR   3172059  1098511   \n",
      "18  A002  R051  02-00-00  05-24-11  00:00:00  REGULAR   3172200  1098528   \n",
      "19  A002  R051  02-00-00  05-24-11  04:00:00  REGULAR   3172214  1098529   \n",
      "20  A002  R051  02-00-00  05-24-11  08:00:00  REGULAR   3172266  1098628   \n",
      "21  A002  R051  02-00-00  05-24-11  12:00:00  REGULAR   3172407  1098952   \n",
      "22  A002  R051  02-00-00  05-24-11  16:00:00  REGULAR   3172689  1099010   \n",
      "23  A002  R051  02-00-00  05-24-11  20:00:00  REGULAR   3173590  1099055   \n",
      "24  A002  R051  02-00-00  05-25-11  00:00:00  REGULAR   3173803  1099079   \n",
      "25  A002  R051  02-00-00  05-25-11  04:00:00  REGULAR   3173826  1099081   \n",
      "26  A002  R051  02-00-00  05-25-11  08:00:00  REGULAR   3173873  1099178   \n",
      "27  A002  R051  02-00-00  05-25-11  12:00:00  REGULAR   3174022  1099496   \n",
      "28  A002  R051  02-00-00  05-25-11  16:00:00  REGULAR   3174309  1099572   \n",
      "29  A002  R051  02-00-00  05-25-11  20:00:00  REGULAR   3175172  1099651   \n",
      "30  A002  R051  02-00-00  05-26-11  00:00:00  REGULAR   3175360  1099675   \n",
      "31  A002  R051  02-00-00  05-26-11  04:00:00  REGULAR   3175373  1099675   \n",
      "32  A002  R051  02-00-00  05-26-11  08:00:00  REGULAR   3175408  1099762   \n",
      "33  A002  R051  02-00-00  05-26-11  12:00:00  REGULAR   3175561  1100046   \n",
      "34  A002  R051  02-00-00  05-26-11  16:00:00  REGULAR   3175876  1100107   \n",
      "35  A002  R051  02-00-00  05-26-11  20:00:00  REGULAR   3176802  1100159   \n",
      "36  A002  R051  02-00-00  05-27-11  00:00:00  REGULAR   3176993  1100183   \n",
      "37  A002  R051  02-00-00  05-27-11  04:00:00  REGULAR   3177012  1100187   \n",
      "38  A002  R051  02-00-00  05-27-11  08:00:00  REGULAR   3177051  1100282   \n",
      "39  A002  R051  02-00-00  05-27-11  12:00:00  REGULAR   3177199  1100598   \n",
      "40  A002  R051  02-00-00  05-27-11  16:00:00  REGULAR   3177629  1100666   \n",
      "41  A002  R051  02-00-00  05-27-11  20:00:00  REGULAR   3178345  1100716   \n",
      "\n",
      "    ENTRIESn_hourly  EXITSn_hourly  \n",
      "0                 1              0  \n",
      "1                24              3  \n",
      "2                16             19  \n",
      "3                75             79  \n",
      "4               187             48  \n",
      "5               305             35  \n",
      "6               121             23  \n",
      "7                27              9  \n",
      "8                18             19  \n",
      "9                76             47  \n",
      "10              148             45  \n",
      "11              223             29  \n",
      "12               84             23  \n",
      "13                6              0  \n",
      "14               45            105  \n",
      "15              151            309  \n",
      "16              297             69  \n",
      "17              865             64  \n",
      "18              141             17  \n",
      "19               14              1  \n",
      "20               52             99  \n",
      "21              141            324  \n",
      "22              282             58  \n",
      "23              901             45  \n",
      "24              213             24  \n",
      "25               23              2  \n",
      "26               47             97  \n",
      "27              149            318  \n",
      "28              287             76  \n",
      "29              863             79  \n",
      "30              188             24  \n",
      "31               13              0  \n",
      "32               35             87  \n",
      "33              153            284  \n",
      "34              315             61  \n",
      "35              926             52  \n",
      "36              191             24  \n",
      "37               19              4  \n",
      "38               39             95  \n",
      "39              148            316  \n",
      "40              430             68  \n",
      "41              716             50  \n"
     ]
    }
   ],
   "source": [
    "df = get_hourly_exits(df)\n",
    "print(df)"
   ]
  },
  {
   "cell_type": "markdown",
   "metadata": {},
   "source": [
    "## 10 - Time to Hour"
   ]
  },
  {
   "cell_type": "code",
   "execution_count": 21,
   "metadata": {
    "collapsed": true
   },
   "outputs": [],
   "source": [
    "def time_to_hour(time):\n",
    "    '''\n",
    "    Given an input variable time that represents time in the format of:\n",
    "    \"00:00:00\" (hour:minutes:seconds)\n",
    "    \n",
    "    Write a function to extract the hour part from the input variable time\n",
    "    and return it as an integer. For example:\n",
    "        1) if hour is 00, your code should return 0\n",
    "        2) if hour is 01, your code should return 1\n",
    "        3) if hour is 21, your code should return 21\n",
    "        \n",
    "    Please return hour as an integer.\n",
    "    '''\n",
    "    \n",
    "    hour = int(time.split(\":\")[0])\n",
    "    return hour"
   ]
  },
  {
   "cell_type": "markdown",
   "metadata": {},
   "source": [
    "## 11 - Reformat Subway Dates"
   ]
  },
  {
   "cell_type": "code",
   "execution_count": 22,
   "metadata": {
    "collapsed": true
   },
   "outputs": [],
   "source": [
    "import datetime\n",
    "\n",
    "def reformat_subway_dates(date):\n",
    "    '''\n",
    "    The dates in our subway data are formatted in the format month-day-year.\n",
    "    The dates in our weather underground data are formatted year-month-day.\n",
    "    \n",
    "    In order to join these two data sets together, we'll want the dates formatted\n",
    "    the same way.  Write a function that takes as its input a date in the MTA Subway\n",
    "    data format, and returns a date in the weather underground format.\n",
    "    \n",
    "    Hint: \n",
    "    There are a couple of useful functions in the datetime library that will\n",
    "    help on this assignment, called strptime and strftime. \n",
    "    More info can be seen here and further in the documentation section:\n",
    "    http://docs.python.org/2/library/datetime.html#datetime.datetime.strptime\n",
    "    '''\n",
    "\n",
    "    date_formatted = datetime.datetime.strptime(date,\"%m-%d-%y\").strftime(\"%Y-%m-%d\")\n",
    "    return date_formatted"
   ]
  },
  {
   "cell_type": "code",
   "execution_count": 26,
   "metadata": {
    "collapsed": false
   },
   "outputs": [
    {
     "data": {
      "text/html": [
       "<style>\n",
       "    @font-face {\n",
       "        font-family: \"Computer Modern\";\n",
       "        src: url('http://9dbb143991406a7c655e-aa5fcb0a5a4ec34cff238a2d56ca4144.r56.cf5.rackcdn.com/cmunss.otf');\n",
       "    }\n",
       "    @font-face {\n",
       "        font-family: \"Computer Modern\";\n",
       "        font-weight: bold;\n",
       "        src: url('http://9dbb143991406a7c655e-aa5fcb0a5a4ec34cff238a2d56ca4144.r56.cf5.rackcdn.com/cmunsx.otf');\n",
       "    }\n",
       "    @font-face {\n",
       "        font-family: \"Computer Modern\";\n",
       "        font-style: oblique;\n",
       "        src: url('http://9dbb143991406a7c655e-aa5fcb0a5a4ec34cff238a2d56ca4144.r56.cf5.rackcdn.com/cmunsi.otf');\n",
       "    }\n",
       "    @font-face {\n",
       "        font-family: \"Computer Modern\";\n",
       "        font-weight: bold;\n",
       "        font-style: oblique;\n",
       "        src: url('http://9dbb143991406a7c655e-aa5fcb0a5a4ec34cff238a2d56ca4144.r56.cf5.rackcdn.com/cmunso.otf');\n",
       "    }\n",
       "\n",
       "    div.CodeMirror code{ /* code font */\n",
       "        font-family: \"Consolas\", monospace;\n",
       "        font-size: 10pt;\n",
       "    }\n",
       "\n",
       "    div.text_cell_render{\n",
       "        font-family: Computer Modern, \"Helvetica Neue\", Arial, Helvetica, Geneva, sans-serif;\n",
       "        font-size: 115%;\n",
       "        padding: 0;\n",
       "    }\n",
       "    /* header colours and fonts */\n",
       "    h1 {\n",
       "        color: #444;\n",
       "    }\n",
       "    h2 { color: #444; }\n",
       "    h3\n",
       "    {\n",
       "         color: #444;\n",
       "         font-style: italic;\n",
       "         font-weight: bold;\n",
       "         font-size: 120% !important;\n",
       "         margin-top: 0.6em !important;\n",
       "    }\n",
       "    h4\n",
       "    {\n",
       "        margin-top: 0.5em !important;\n",
       "        color: #444;\n",
       "    }\n",
       "    h5 { color: #444; }\n",
       "    h6 { color: #444; }\n",
       "\n",
       "    ul {margin-top: 0em !important}\n",
       "    ol {margin-top: 0em !important}\n",
       "    p {margin-top: 0.4em !important}\n",
       "\n",
       "    div.output_subarea\n",
       "    {\n",
       "      padding: 1em;\n",
       "    }\n",
       "</style>\n",
       "<script>\n",
       "    MathJax.Hub.Config({\n",
       "                        TeX: {\n",
       "                           extensions: [\"AMSmath.js\"]\n",
       "                           },\n",
       "                tex2jax: {\n",
       "                    inlineMath: [ ['$','$'], [\"\\\\(\",\"\\\\)\"] ],\n",
       "                    displayMath: [ ['$$','$$'], [\"\\\\[\",\"\\\\]\"] ]\n",
       "                },\n",
       "                displayAlign: 'center', // Change this to 'center' to center equations.\n",
       "/*              displayIndent: \"4em\",*/\n",
       "                \"HTML-CSS\": {\n",
       "                    styles: {'.MathJax_Display': {\"margin\": 4}}\n",
       "                }\n",
       "        });\n",
       "</script>\n"
      ],
      "text/plain": [
       "<IPython.core.display.HTML object>"
      ]
     },
     "execution_count": 26,
     "metadata": {},
     "output_type": "execute_result"
    }
   ],
   "source": [
    "def css_styling():\n",
    "    styles = open(\"./css/custom.css\", \"r\").read()\n",
    "    return disp.HTML(styles)\n",
    "css_styling()"
   ]
  }
 ],
 "metadata": {
  "kernelspec": {
   "display_name": "Python 2",
   "language": "python",
   "name": "python2"
  },
  "language_info": {
   "codemirror_mode": {
    "name": "ipython",
    "version": 2
   },
   "file_extension": ".py",
   "mimetype": "text/x-python",
   "name": "python",
   "nbconvert_exporter": "python",
   "pygments_lexer": "ipython2",
   "version": "2.7.10"
  },
  "latex_envs": {
   "bibliofile": "biblio.bib",
   "cite_by": "apalike",
   "current_citInitial": 1,
   "eqLabelWithNumbers": true,
   "eqNumInitial": 0
  }
 },
 "nbformat": 4,
 "nbformat_minor": 0
}
