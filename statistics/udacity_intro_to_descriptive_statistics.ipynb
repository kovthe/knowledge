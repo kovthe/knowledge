{
 "cells": [
  {
   "cell_type": "code",
   "execution_count": 1,
   "metadata": {
    "collapsed": false
   },
   "outputs": [],
   "source": [
    "import IPython.display as disp\n",
    "import matplotlib\n",
    "import matplotlib.pyplot as plt\n",
    "import numpy as np\n",
    "import scipy.stats as st\n",
    "import pylab\n",
    "import math\n",
    "\n",
    "\n",
    "%matplotlib inline\n",
    "%config InlineBackend.figure_format = 'retina'"
   ]
  },
  {
   "cell_type": "markdown",
   "metadata": {},
   "source": [
    "# Descriptive Statistics\n",
    "Author: William Truong\n",
    "\n",
    "The following are notes taken from Udacity's [Intro to Descriptive Statistics course](https://www.udacity.com/course/intro-to-descriptive-statistics--ud827)."
   ]
  },
  {
   "cell_type": "markdown",
   "metadata": {},
   "source": [
    "## Lesson 1: Intro to Research Methods\n",
    "### Introduction\n",
    "#### Key Ideas\n",
    "* Descriptive Statistics\n",
    "* Construct\n",
    "* Operational Definition\n",
    "* Population\n",
    "* Sample\n",
    "* Parameter\n",
    "* Statistic\n",
    "\n",
    "**Descriptive statistics** is the term given to the analysis of data that helps describe, show or summarize data in a meaningful way such that, for example, patterns might emerge from the data.\n",
    "\n",
    "A **construct** is anything that can be difficult to measure because it can be defined and measured in many different ways. The **operational definition** is the unit of measurement used to measure the construct. Granted, once a construct can be operationally defined, it is no longer a construct.\n",
    "\n",
    "The **population** is all the individuals in a group. A **sample** is some of the indiciduals in a group.\n",
    "\n",
    "A **parameter** defines a characteristic of a population, while a **statistic** defines a characteristic of a sample.\n",
    "\n",
    "#### Observations\n",
    "Volume is a construct. We know that volume is the space something takes up but we haven’t defined what the unit of measurement for measuring the space. Once an operational definition of volume is chosen, volume is no longer a construct. For example, if we decide to measure volume in liters, it is no longer a construct.\n",
    "\n",
    "Minutes is already operationally defined, so it is not a construct (there’s no ambiguity).\n",
    "\n",
    "Commonly used symbols:\n",
    "* The mean of a population is defined with the symbol $\\mu$\n",
    "* The mean of a sample is defined with the symbol $\\bar{x}$\n",
    "* The population size is defined with the letter N."
   ]
  },
  {
   "cell_type": "markdown",
   "metadata": {},
   "source": [
    "### Experimentation\n",
    "#### Key Ideas\n",
    "* Treatment\n",
    "* Observational Study\n",
    "* Independent Variable\n",
    "* Dependent Variable\n",
    "* Lurking Variable\n",
    "* Treatment Group\n",
    "* Control Group\n",
    "* Placebo\n",
    "* Single Blinding\n",
    "* Double Blinding\n",
    "\n",
    "\n",
    "A **Treatment** is the manner in which researchers handle subjects. Researchers are specifically interested in how different treatments might yield different results.\n",
    "\n",
    "An **observational study** is when an experimenter watches a group of subjects and does not introduce treatment.\n",
    "\n",
    "An **independent variable** is the variable that experimenters choose to manipulate; it is usually plotted along the x-axis of a graph.\n",
    "\n",
    "A **dependent variable** is the variable that experimenters choose to measure during an experiment; it is usually plotted along the y-axis of a graph.\n",
    "\n",
    "The **lurking variable** is an extraneous variable that affects the relationship between the independent and dependent variable.\n",
    "\n",
    "The **treatment group** is the group of study that receives varying levels of the independent variable. These groups are used to measure the effect of the treatment.\n",
    "\n",
    "The **control group** is the group of study that does not receive treatment. This group is used as a baseline when comparing treatment groups.\n",
    "\n",
    "**Placebos** are given to the subjects in the control group so they think they are getting the treatment, when in reality they are getting something that causes no effect.\n",
    "\n",
    "**Single Blinding** is used to reduce bias by not revealing to the treatment group whether or not they have received either the treatment or placebo\n",
    "\n",
    "**Double Blinding** ensures both those administering treatments and those receiving treatments do not know who is receiving which treatment.\n",
    "\n",
    "#### Observations\n",
    "Researchers are specifically interested in how different treatments might yield different results.\n",
    "\n",
    "For observational studies, the researcher is not able to control (1) how subjects are assigned to groups and/or (2) which treatments each group receives.\n",
    "* A survey is an example of an observational study.\n",
    "\n",
    "For experiments, a treatment is introduced to the treatment group, while a placebo is introduced to the control group. Often times experiments are double blind studies, to ensure biases aren’t introduced. \n",
    "\n",
    "A lurking variable can falsely identify a strong relationship between variables, potentially hiding the true relationship.\n",
    "* Lurking variables need to be controlled in an experiment to eliminate the possibility of an incorrect conclusion.\n",
    "\n",
    "A carefully controlled experiment allows for causal conclusions.\n"
   ]
  },
  {
   "cell_type": "markdown",
   "metadata": {},
   "source": [
    "## Lesson 2: Visualizing Data\n",
    "### Dataset and Histograms\n",
    "#### Key Ideas\n",
    "\n",
    "* Frequency\n",
    "* Proportion\n",
    "* Relative Frequency\n",
    "* Histograms\n",
    "* Bar Graphs\n",
    "* Difference between histograms and bar graphs?\n",
    "* Positive Skew\n",
    "* Negative Skew\n",
    "\n",
    "**Frequency** is the number of times a certain outcome occurs in a data set.\n",
    "Proportion is the fraction of counts over the total sample.\n",
    "\n",
    "**Relative Frequency** describes the number of times a data item has been observed to occur in relation to the total number of data items.\n",
    "\n",
    "**Histograms** are the graphical representation of quantitative (numerical or distribution of) data, discrete intervals (bins) are decided to upon to form widths for our boxes.\n",
    "\n",
    "**Bar graphs** are the graphical representation of qualitative (categorical) data, with discrete values for the independent variable.\n",
    "\n",
    "**Positive skew** is when outliers are present along the right most end of the distribution.\n",
    "\n",
    "**Negative skew** is when outliers are present along the left most end of the distribution.\n",
    "\n",
    "#### Observations\n",
    "Proportion and percentages are used to display relative frequencies.\n",
    "\n",
    "A positively skewed distribution has more extreme values to the right, causing the median < mean. The peak is on the the left side of the distribution."
   ]
  },
  {
   "cell_type": "code",
   "execution_count": 2,
   "metadata": {
    "collapsed": false
   },
   "outputs": [
    {
     "data": {
      "image/png": "[encoded data removed]",
      "text/plain": [
       "<matplotlib.figure.Figure at 0x109ae2410>"
      ]
     },
     "metadata": {
      "image/png": {
       "height": 251,
       "width": 379
      }
     },
     "output_type": "display_data"
    }
   ],
   "source": [
    "fig = plt.figure()\n",
    "ax = fig.add_subplot(111)\n",
    "\n",
    "dataset = np.random.normal(loc= 20, scale=20,size=2000)\n",
    "# Negatively skew the distribution\n",
    "dataset = np.append(dataset, np.random.random_integers(120,160,60))\n",
    "dataset.sort()\n",
    "dataset = dataset[60:]\n",
    "n, bins, patches = ax.hist(dataset, bins = range(0,160,10), normed=0, alpha=0.7);\n",
    "\n",
    "# Calculate mean and median\n",
    "mean = dataset.mean()\n",
    "median = np.median(dataset)\n",
    "\n",
    "# Plot mean, median\n",
    "ax.axvline(mean, label=\"$\\mathrm{{mean}}={:.2f}$\".format(mean),\n",
    "           color='orange', linestyle='dashed', linewidth=2)\n",
    "ax.axvline(median, label=\"$\\mathrm{{median}}={:.2f}$\".format(median),\n",
    "           color='green', linestyle='dashed', linewidth=2)\n",
    "\n",
    "x1,x2,y1,y2 = plt.axis()\n",
    "y2 += 20\n",
    "ax.axis((x1,x2,y1,y2));\n",
    "\n",
    "ax.legend(loc='upper right');"
   ]
  },
  {
   "cell_type": "markdown",
   "metadata": {},
   "source": [
    "A negatively skewed distribution has more extreme values to the left, often causing the mean < median. The peak is on the right of the distribution."
   ]
  },
  {
   "cell_type": "code",
   "execution_count": 3,
   "metadata": {
    "collapsed": false
   },
   "outputs": [
    {
     "data": {
      "image/png": "[encoded data removed]",
      "text/plain": [
       "<matplotlib.figure.Figure at 0x10a073a90>"
      ]
     },
     "metadata": {
      "image/png": {
       "height": 251,
       "width": 379
      }
     },
     "output_type": "display_data"
    }
   ],
   "source": [
    "fig = plt.figure()\n",
    "ax = fig.add_subplot(111)\n",
    "\n",
    "dataset = np.random.normal(loc= 130, scale=20,size=2000)\n",
    "# Negatively skew the distribution\n",
    "dataset = np.append(dataset, np.random.random_integers(0,30,60))\n",
    "dataset.sort()\n",
    "dataset = dataset[:len(dataset)-60]\n",
    "n, bins, patches = ax.hist(dataset, bins = range(0,170,10), normed=0, alpha=0.7);\n",
    "\n",
    "# Calculate mean and median\n",
    "mean = dataset.mean()\n",
    "median = np.median(dataset)\n",
    "\n",
    "# Plot mean, median\n",
    "ax.axvline(mean, label=\"$\\mathrm{{mean}}={:.2f}$\".format(mean),\n",
    "           color='orange', linestyle='dashed', linewidth=2)\n",
    "ax.axvline(median, label=\"$\\mathrm{{median}}={:.2f}$\".format(median),\n",
    "           color='green', linestyle='dashed', linewidth=2)\n",
    "\n",
    "x1,x2,y1,y2 = plt.axis()\n",
    "y2 += 20\n",
    "ax.axis((x1,x2,y1,y2));\n",
    "\n",
    "ax.legend(loc='upper left');"
   ]
  },
  {
   "cell_type": "markdown",
   "metadata": {},
   "source": [
    "## Lesson 3: Central Tendency\n",
    "### Population vs Sample\n",
    "#### Key Ideas\n",
    "* central tendency\n",
    "* mean\n",
    "* median\n",
    "* mode\n",
    "* bimodal distribution\n",
    "* uniform distribution\n",
    "\n",
    "**Central tendency** (or, more commonly, a measure of central tendency) is a central or typical value for a probability distribution. It may also be called a center or location of the distribution. Colloquially, measures of central tendency are often called averages.\n",
    "\n",
    "The **mean** of a dataset is the numerical average and can be computed by dividing the sum of all the data points by number of datapoints. The **median** of a dataset is the datapoint that is directly in the middle of the data set. The **mode** of a dataset is the datapoint that occurs the most frequently in the dataset.\n",
    "\n",
    "Distributions are considered **bimodal** when there are two distinct clear trends. In this case there would be two modes. Distributions are considered **uniform** when there is constant frequency amongst bins.\n",
    "\n",
    "#### Observations\n",
    "* The mean is not a robust measurement because it can be heavily affected by outliers.\n",
    "* The median and mode are robust against outliers.\n",
    "* In a normal distribution the mean = median = mode.\n",
    "* For positively skewed distributions, often times mode < median < mean, while negatively skewed distributions are in the reverse."
   ]
  },
  {
   "cell_type": "markdown",
   "metadata": {},
   "source": [
    "## Lesson 4: Variability\n",
    "### Box Plots and the IQR\n",
    "### Key Ideas\n",
    "* Interquartile range\n",
    "* How to identify outliers?\n",
    "\n",
    "The **interquartile range** (IQR) is the distance between 1st and 3rd quartile and gives use the range of the middle 50% of our data. Q1 is the median of the lower half of the data set. Q3 is the median of the upper half of the data set.\n",
    "\n",
    "### Example:"
   ]
  },
  {
   "cell_type": "code",
   "execution_count": 4,
   "metadata": {
    "collapsed": false
   },
   "outputs": [],
   "source": [
    "dataset = np.array([-20, 3, 4, 7, 8, 12, 13, 14, 18, 21, 40])\n",
    "dataset_str = str(dataset)\n",
    "median = np.median(dataset)\n",
    "lower_half = dataset[dataset < median]\n",
    "q1 =  np.median(lower_half)\n",
    "upper_half = dataset[dataset > median]\n",
    "q3 = np.median(upper_half)\n",
    "iqr = q3 - q1\n",
    "lower_outliers = str(lower_half[lower_half < (q1-(1.5*iqr))])\n",
    "upper_outliers = str(upper_half[upper_half > (q3+(1.5*iqr))])"
   ]
  },
  {
   "cell_type": "markdown",
   "metadata": {
    "variables": {
     "dataset_str": "[-20   3   4   7   8  12  13  14  18  21  40]",
     "iqr": "14.0",
     "lower_half": "array([-20,   3,   4,   7,   8])",
     "lower_outliers": "[-20]",
     "median": "12.0",
     "q1": "4.0",
     "q3": "18.0",
     "upper_half": "array([13, 14, 18, 21, 40])",
     "upper_outliers": "[40]"
    }
   },
   "source": [
    "**Dataset**: {{dataset_str}}  \n",
    "**Median**: {{median}}  \n",
    "**Lower Half**: {{lower_half}}  \n",
    "**Q1**: {{q1}}  \n",
    "**Upper Half**: {{upper_half}}  \n",
    "**Q3**: {{q3}}  \n",
    "**IQR**: Q3 - Q1 = {{iqr}}\n",
    "\n",
    "You can use the IQR to identify outliers.\n",
    "* **Lower outliers** (Q1 - 1.5IQR): {{lower_outliers}}\n",
    "* **Upper outliers** (Q3 + 1.5IQR): {{upper_outliers}}"
   ]
  },
  {
   "cell_type": "code",
   "execution_count": 5,
   "metadata": {
    "collapsed": false
   },
   "outputs": [
    {
     "data": {
      "image/png": "[encoded data removed]",
      "text/plain": [
       "<matplotlib.figure.Figure at 0x109ae21d0>"
      ]
     },
     "metadata": {
      "image/png": {
       "height": 251,
       "width": 372
      }
     },
     "output_type": "display_data"
    }
   ],
   "source": [
    "fig = plt.figure()\n",
    "ax = fig.add_subplot(111)\n",
    "ax.boxplot(dataset,0,'gD');\n",
    "x1,x2,y1,y2 = plt.axis()\n",
    "y2 += 5\n",
    "y1 -= 5\n",
    "ax.axis((x1,x2,y1,y2));"
   ]
  },
  {
   "cell_type": "code",
   "execution_count": 6,
   "metadata": {
    "collapsed": false
   },
   "outputs": [
    {
     "data": {
      "image/jpeg": "[encoded data removed]",
      "text/plain": [
       "<IPython.core.display.Image object>"
      ]
     },
     "execution_count": 6,
     "metadata": {},
     "output_type": "execute_result"
    }
   ],
   "source": [
    "disp.Image(filename='./images/box_plot.jpg')"
   ]
  },
  {
   "cell_type": "markdown",
   "metadata": {},
   "source": [
    "#### Observations\n",
    "Outliers significantly increase the range of a distribution. In order to get an more accurate representation, the lower 25% and upper 25% of the distribution are usually ignored.\n",
    "\n",
    "A box plot is a great way to show the 5 number summary: min, max, first quartile, median, third quartile, and maximum in a visually appealing way."
   ]
  },
  {
   "cell_type": "markdown",
   "metadata": {},
   "source": [
    "### Variance and Standard Deviation\n",
    "#### Key Ideas\n",
    "* Standard Score (z-score)\n",
    "* What are the characteristics of a standard normal distribution.\n",
    "\n",
    "Given an observed value x, the **z-score** finds the number of standard deviations x is away from the mean.\n",
    "$$Z=\\frac{x-\\mu}{\\sigma}$$\n",
    "\n",
    "The **standard normal curve** is the curve after scores are standardized."
   ]
  },
  {
   "cell_type": "code",
   "execution_count": 7,
   "metadata": {
    "collapsed": false
   },
   "outputs": [
    {
     "data": {
      "text/html": [
       "<img src=\"./images/standard_normal_curve.gif\"/>"
      ],
      "text/plain": [
       "<IPython.core.display.Image object>"
      ]
     },
     "metadata": {},
     "output_type": "display_data"
    }
   ],
   "source": [
    "disp.display(disp.Image(url=\"./images/standard_normal_curve.gif\"))"
   ]
  },
  {
   "cell_type": "markdown",
   "metadata": {},
   "source": [
    "The standard normal distribution has a mean of 0 and a standard deviation of 1.\n",
    "\n",
    "#### Examples:\n",
    "\n",
    "The average height of a professional basketball player was 2.00 meters with a standard deviation of 0.02 meters. Harrison Barnes is a basketball player who measures 2.03 meters. How many standard deviations from the mean is Barnes’ height?\n",
    "\n",
    "Compute z-score:"
   ]
  },
  {
   "cell_type": "code",
   "execution_count": 8,
   "metadata": {
    "collapsed": false
   },
   "outputs": [
    {
     "data": {
      "text/latex": [
       "$$\\frac{x-\\mu}{\\sigma} =\n",
       "           \\frac{2.03-2.0}{0.02} = 1.5$$"
      ],
      "text/plain": [
       "<IPython.core.display.Math object>"
      ]
     },
     "metadata": {},
     "output_type": "display_data"
    }
   ],
   "source": [
    "def z_score(x, mu, sigma):\n",
    "    z_score = round((x-mu)/sigma,3)\n",
    "\n",
    "    text = r\"\"\"\\frac{{x-\\mu}}{{\\sigma}} =\n",
    "           \\frac{{{}-{}}}{{{}}} = {}\"\"\".format(x, mu,\n",
    "                                               sigma, z_score)\n",
    "    disp.display(disp.Math(text))\n",
    "    return z_score\n",
    "\n",
    "x_barnes = 2.03\n",
    "mu_barnes = 2.00\n",
    "sigma_barnes = 0.02\n",
    "z_score_barnes = z_score(x_barnes, mu_barnes, sigma_barnes)"
   ]
  },
  {
   "cell_type": "markdown",
   "metadata": {
    "variables": {
     "z_score_barnes": "1.5"
    }
   },
   "source": [
    "Barne's height is {{z_score_barnes}} standard deviations from the average height of professional basketball players\n",
    "\n",
    "The average height of a professional hockey player is 1.86 meters with a standard deviation of 0.06 meters. Tyler Myers, a professional hockey player, is the same height as Harrison Barnes. Which of the two is taller in their respective league?\n",
    "\n",
    "Compute z-score of Tyler Myers:"
   ]
  },
  {
   "cell_type": "code",
   "execution_count": 12,
   "metadata": {
    "collapsed": false
   },
   "outputs": [
    {
     "data": {
      "text/latex": [
       "$$\\frac{x-\\mu}{\\sigma} =\n",
       "           \\frac{2.03-1.86}{0.06} = 2.833$$"
      ],
      "text/plain": [
       "<IPython.core.display.Math object>"
      ]
     },
     "metadata": {},
     "output_type": "display_data"
    }
   ],
   "source": [
    "x_tyler = 2.03\n",
    "mu_tyler = 1.86\n",
    "sigma_tyler = 0.06\n",
    "z_score_tyler = z_score(x_tyler, mu_tyler, sigma_tyler)"
   ]
  },
  {
   "cell_type": "markdown",
   "metadata": {
    "variables": {
     "z_score_barnes": "1.5",
     "z_score_tyler": "2.833"
    }
   },
   "source": [
    "Comparing the two z-scores we see that Tyler Myers score of {{z_score_tyler}} is larger than Barnes’ score of {{z_score_barnes}}. This tells us there are more hockey players shorter than Myers then there are basketball players shorters than Barnes’."
   ]
  },
  {
   "cell_type": "markdown",
   "metadata": {},
   "source": [
    "#### Observations:\n",
    "Using z-scores is useful for comparing two unrelated datasets together. For instance, to see if a football player or hockey player is relatively taller than their respective peers. Another one is to see if person A is more popular than person B based on person A’s number of facebook friends and person B’s number of twitter followers. "
   ]
  },
  {
   "cell_type": "markdown",
   "metadata": {},
   "source": [
    "## 6. Normal Distribution - Probability Distribution Function\n",
    "### Key Ideas\n",
    "* PDF\n",
    "\n",
    "**Probability Distribution Function**: A normal curve with an area of 1 beneath it, to represent the cumulative frequency of values.\n",
    "\n",
    "### Example 1:\n",
    "The average height of students at a private university is 1.85 meters with a standard deviation of 0.15 meters. What percentage of students are shorter or as tall as Margie who stands at 2.05 meters?"
   ]
  },
  {
   "cell_type": "code",
   "execution_count": 13,
   "metadata": {
    "collapsed": false
   },
   "outputs": [
    {
     "data": {
      "text/latex": [
       "$$\\frac{x-\\mu}{\\sigma} =\n",
       "           \\frac{2.05-1.85}{0.15} = 1.333$$"
      ],
      "text/plain": [
       "<IPython.core.display.Math object>"
      ]
     },
     "metadata": {},
     "output_type": "display_data"
    }
   ],
   "source": [
    "mu_height = 1.85\n",
    "mu_std = 0.15\n",
    "x_margie = 2.05\n",
    "\n",
    "z_margie = z_score(x_margie, mu_height, mu_std)\n",
    "cdf_margie = round(st.norm.cdf(z_margie)*100, 2)\n",
    "gt_cdf_margie = round(100-cdf_margie, 2)"
   ]
  },
  {
   "cell_type": "markdown",
   "metadata": {
    "variables": {
     "cdf_margie": "90.87",
     "gt_cdf_margie": "9.13",
     "z_margie": "1.333"
    }
   },
   "source": [
    "Using the z-table for a z value of {{z_margie}}, we find that {{cdf_margie}}% of students are shorter or as tall as Margie's.\n",
    "\n",
    "Margie also wants to know what percent of students are taller than her. Since the area under the normal curbe is 1 we can find that the proportion:\n",
    "\n",
    "100 - {{cdf_margie}} = {{gt_cdf_margie}}%\n",
    "\n",
    "Approximately {{gt_cdf_margie}}% of the population are taller than Margie.\n",
    "\n",
    "Anne only measures 1.87 meters. What proportion of classmates are between Anne and Margie’s heights.\n",
    "\n",
    "We already know that 90.82% of the population are shorter than Margie. Let’s find out what percentage is shorter than Anne:"
   ]
  },
  {
   "cell_type": "code",
   "execution_count": 14,
   "metadata": {
    "collapsed": false
   },
   "outputs": [
    {
     "data": {
      "text/latex": [
       "$$\\frac{x-\\mu}{\\sigma} =\n",
       "           \\frac{1.87-1.85}{0.15} = 0.133$$"
      ],
      "text/plain": [
       "<IPython.core.display.Math object>"
      ]
     },
     "metadata": {},
     "output_type": "display_data"
    }
   ],
   "source": [
    "x_anne = 1.87\n",
    "z_anne = z_score(x_anne, mu_height, mu_std)\n",
    "cdf_anne = round(st.norm.cdf(z_anne)*100,2)"
   ]
  },
  {
   "cell_type": "code",
   "execution_count": 15,
   "metadata": {
    "collapsed": true
   },
   "outputs": [],
   "source": [
    "cdf_between = round(cdf_margie - cdf_anne,2)"
   ]
  },
  {
   "cell_type": "markdown",
   "metadata": {
    "variables": {
     "cdf_between": {}
    }
   },
   "source": [
    "Approximately {{cdf_between}}% are between Anne and Margie's height."
   ]
  },
  {
   "cell_type": "markdown",
   "metadata": {},
   "source": [
    "#### Example 2:\n",
    "$$\\mu = 13\\ avg.\\ Karma\\ points/post$$\n",
    "$$\\sigma = 4.8\\ avg.\\ Karma\\ points/post$$\n",
    "How many Karma points per post on average would you need to be in the top 5% of udacity students?"
   ]
  },
  {
   "cell_type": "code",
   "execution_count": 16,
   "metadata": {
    "collapsed": true
   },
   "outputs": [],
   "source": [
    "z = st.norm.ppf(0.95)\n",
    "points = round(z * 4.8 + 13,3)"
   ]
  },
  {
   "cell_type": "markdown",
   "metadata": {
    "variables": {
     "points": {}
    }
   },
   "source": [
    "You would need at least {{points}} points per post on average to be in the top 5% of udacity students.\n",
    "\n",
    "#### Observations\n",
    "* Within 1 standard deviation from the mean, 68% of the population resides within.\n",
    "* Within 2 standard deviations from the mean, 95% of the population resides within.\n",
    "* Within 3 standard deviations from the mean, 99.7% of the population resides within.\n"
   ]
  },
  {
   "cell_type": "markdown",
   "metadata": {},
   "source": [
    "## Sampling Distributions: Central Limit Theorem\n",
    "### Key Ideas\n",
    "* Sampling Distribution\n",
    "* What is the Central Limit Theorem used for\n",
    "\n",
    "\n",
    "The distribution of sample means is called the **sampling distribution**.\n",
    "\n",
    "The **Central Limit Theorem** is used to help us understand the following facts regardless of whether population distribution is normal or not:\n",
    "\n",
    "  1. The mean of the sample means is the same as the population mean.\n",
    "  2. The standard deviation of the sample means is always equal to the standard error (i.e. ) $SE = {\\sigma \\over \\sqrt{n}}$\n",
    "  3. The distribution of sample means will become increasingly more normal as the sample size, n, increases.\n",
    "\n",
    "### Observations\n",
    "* You can have any population of any shape and then if you plot the distribution of sample means, you’ll get a normal distribution, and it will be more and more normal as n increases.\n",
    "* We want a higher sampling size, n, to decrease the standard error to get a more normal distribution.\n",
    "* Specifically we have to quadruple n to achieve half of the measurement error.\n",
    "* According to the Central Limit Theorem:\n",
    "  * $M \\approx \\mu$\n",
    "    * M = mean of sample means\n",
    "  * SE = ${\\sigma \\over \\sqrt{n}}$\n",
    "    * SE = standard deviation of sample means\n",
    "    * n = sample size\n"
   ]
  },
  {
   "cell_type": "code",
   "execution_count": 17,
   "metadata": {
    "collapsed": false
   },
   "outputs": [
    {
     "data": {
      "text/html": [
       "<style>\n",
       "    @font-face {\n",
       "        font-family: \"Computer Modern\";\n",
       "        src: url('http://9dbb143991406a7c655e-aa5fcb0a5a4ec34cff238a2d56ca4144.r56.cf5.rackcdn.com/cmunss.otf');\n",
       "    }\n",
       "    @font-face {\n",
       "        font-family: \"Computer Modern\";\n",
       "        font-weight: bold;\n",
       "        src: url('http://9dbb143991406a7c655e-aa5fcb0a5a4ec34cff238a2d56ca4144.r56.cf5.rackcdn.com/cmunsx.otf');\n",
       "    }\n",
       "    @font-face {\n",
       "        font-family: \"Computer Modern\";\n",
       "        font-style: oblique;\n",
       "        src: url('http://9dbb143991406a7c655e-aa5fcb0a5a4ec34cff238a2d56ca4144.r56.cf5.rackcdn.com/cmunsi.otf');\n",
       "    }\n",
       "    @font-face {\n",
       "        font-family: \"Computer Modern\";\n",
       "        font-weight: bold;\n",
       "        font-style: oblique;\n",
       "        src: url('http://9dbb143991406a7c655e-aa5fcb0a5a4ec34cff238a2d56ca4144.r56.cf5.rackcdn.com/cmunso.otf');\n",
       "    }\n",
       "\n",
       "    div.CodeMirror code{ /* code font */\n",
       "        font-family: \"Consolas\", monospace;\n",
       "        font-size: 10pt;\n",
       "    }\n",
       "\n",
       "    div.text_cell_render{\n",
       "        font-family: Computer Modern, \"Helvetica Neue\", Arial, Helvetica, Geneva, sans-serif;\n",
       "        font-size: 115%;\n",
       "        padding: 0;\n",
       "    }\n",
       "    /* header colours and fonts */\n",
       "    h1 {\n",
       "        color: #444;\n",
       "    }\n",
       "    h2 { color: #444; }\n",
       "    h3\n",
       "    {\n",
       "         color: #444;\n",
       "         font-style: italic;\n",
       "         font-weight: normal;\n",
       "         font-size: 110% !important;\n",
       "         margin-top: 0.6em !important;\n",
       "    }\n",
       "    h4\n",
       "    {\n",
       "        margin-top: 0.5em !important;\n",
       "        color: #444;\n",
       "    }\n",
       "    h5 { color: #444; }\n",
       "    h6 { color: #444; }\n",
       "\n",
       "    ul {margin-top: 0em !important}\n",
       "    ol {margin-top: 0em !important}\n",
       "    p {margin-top: 0.4em !important}\n",
       "\n",
       "    div.output_subarea\n",
       "    {\n",
       "      padding: 1em;\n",
       "    }\n",
       "</style>\n",
       "<script>\n",
       "    MathJax.Hub.Config({\n",
       "                        TeX: {\n",
       "                           extensions: [\"AMSmath.js\"]\n",
       "                           },\n",
       "                tex2jax: {\n",
       "                    inlineMath: [ ['$','$'], [\"\\\\(\",\"\\\\)\"] ],\n",
       "                    displayMath: [ ['$$','$$'], [\"\\\\[\",\"\\\\]\"] ]\n",
       "                },\n",
       "                displayAlign: 'center', // Change this to 'center' to center equations.\n",
       "/*              displayIndent: \"4em\",*/\n",
       "                \"HTML-CSS\": {\n",
       "                    styles: {'.MathJax_Display': {\"margin\": 4}}\n",
       "                }\n",
       "        });\n",
       "</script>\n"
      ],
      "text/plain": [
       "<IPython.core.display.HTML object>"
      ]
     },
     "execution_count": 17,
     "metadata": {},
     "output_type": "execute_result"
    }
   ],
   "source": [
    "def css_styling():\n",
    "    styles = open(\"../css/custom.css\", \"r\").read()\n",
    "    return disp.HTML(styles)\n",
    "css_styling()"
   ]
  }
 ],
 "metadata": {
  "kernelspec": {
   "display_name": "Python 2",
   "language": "python",
   "name": "python2"
  },
  "language_info": {
   "codemirror_mode": {
    "name": "ipython",
    "version": 2
   },
   "file_extension": ".py",
   "mimetype": "text/x-python",
   "name": "python",
   "nbconvert_exporter": "python",
   "pygments_lexer": "ipython2",
   "version": "2.7.10"
  },
  "latex_envs": {
   "bibliofile": "biblio.bib",
   "cite_by": "apalike",
   "current_citInitial": 1,
   "eqLabelWithNumbers": false,
   "eqNumInitial": 1
  }
 },
 "nbformat": 4,
 "nbformat_minor": 0
}
